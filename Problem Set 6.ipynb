{
 "cells": [
  {
   "cell_type": "code",
   "execution_count": 1,
   "metadata": {},
   "outputs": [],
   "source": [
    "import numpy as np\n",
    "import pandas as pd\n",
    "import random\n",
    "random.seed(123)"
   ]
  },
  {
   "cell_type": "code",
   "execution_count": 24,
   "metadata": {},
   "outputs": [],
   "source": [
    "class Sampler:\n",
    "    def __init__(self, A, B, M, N, prime, dist, iteration):\n",
    "        self.A = A # number of hash fn\n",
    "        self.B = B # number of counters\n",
    "        self.dist = dist # which distribution to use\n",
    "        self.M = M # for range of number generated \n",
    "        self.N = N # length of stream\n",
    "        self.p = prime # prime number for the hash function\n",
    "        self.iteration = iteration\n",
    "        self.a = np.random.choice(range(1, self.p-1), A) # list of a for hash fn\n",
    "        self.b = np.random.choice(range(0, self.p-1), A) # list of b for hash fn\n",
    "        \n",
    "    # generate uniform distributed sample\n",
    "    def unif_dist(self):\n",
    "        return(np.floor(np.random.uniform(0, self.M, self.N)))\n",
    "\n",
    "    # generate exp distributed sample\n",
    "    def exp_dist(self):\n",
    "        return(np.floor(np.random.exponential(scale=(1/-np.log(0.5)), size = self.N)))\n",
    "        \n",
    "    # prime field hash function\n",
    "    def hashfn(self, x, a, b):      # improve by adding tests of p and B\n",
    "        return(((a*x + b)%self.p)%(self.B))\n",
    "    \n",
    "    # query 1\n",
    "    def query1(self, x, C):\n",
    "        keep_c = []\n",
    "        for i in enumerate(range(self.A)):\n",
    "            keep_c.append(C[i[0], self.hashfn(x, self.a[i[0]], self.b[i[0]])])\n",
    "        return(np.median(keep_c))\n",
    "\n",
    "    # query 2\n",
    "    def query2(self, x, C):\n",
    "        keep_c = []\n",
    "        for i in enumerate(range(self.A)):  # to improve, catch the exception when B is not even number...\n",
    "            coln = self.hashfn(x, self.a[i[0]], self.b[i[0]])\n",
    "            if coln % 2 == 0:\n",
    "                est = C[i[0], coln] - C[i[0], coln + 1]\n",
    "                keep_c.append(est)\n",
    "            elif coln % 2 == 1:\n",
    "                est = C[i[0], coln] - C[i[0], coln - 1]\n",
    "                keep_c.append(est)            \n",
    "        return(np.median(keep_c))\n",
    "\n",
    "    # populate counter matrix with only n/N of the data\n",
    "    def populate(self):\n",
    "        C = np.zeros((self.A, self.B)) # initiatize counter matrix\n",
    "        if self.dist == 'unif':\n",
    "            sample = self.unif_dist()\n",
    "        elif self.dist == 'exp':\n",
    "            sample = self.exp_dist()\n",
    "        for i in enumerate(sample):\n",
    "            for j in enumerate(range(self.A)):\n",
    "                    C[j[0], self.hashfn(i[1], self.a[j[0]], self.b[j[0]]).astype(int)] += 1\n",
    "        return(C)\n",
    "                    \n",
    "    def result(self):\n",
    "        if self.dist =='unif':\n",
    "            expected_dis = np.array(self.N/self.M)\n",
    "        elif self.dist == 'exp':\n",
    "            expected_dis = []\n",
    "            for i in enumerate(range(self.M)):\n",
    "                expected_dis.append(0.5**(i[0]+1) * self.N)\n",
    "    \n",
    "        expected_dis = np.array(expected_dis)\n",
    "        keep_mae_query1 = []\n",
    "        keep_mae_query2 = []\n",
    "        for i in enumerate(range(self.iteration)):\n",
    "            C = self.populate()\n",
    "            out1 = []\n",
    "            out2 = []\n",
    "            for j in enumerate(range(self.M)):\n",
    "                query1_ret = self.query1(j[0], C)\n",
    "                out1.append(query1_ret)\n",
    "                query2_ret = self.query2(j[0], C)\n",
    "                out2.append(query2_ret)\n",
    "                \n",
    "            keep_mae_query1.append(np.mean(np.abs(out1 - expected_dis)))\n",
    "            keep_mae_query2.append(np.mean(np.abs(out2 - expected_dis)))\n",
    "        \n",
    "        return(np.round((np.mean(keep_mae_query1), np.mean(keep_mae_query2)),2))\n",
    "        "
   ]
  },
  {
   "cell_type": "code",
   "execution_count": 15,
   "metadata": {},
   "outputs": [
    {
     "data": {
      "text/plain": [
       "(7.388843749999999, 7.38534375)"
      ]
     },
     "execution_count": 15,
     "metadata": {},
     "output_type": "execute_result"
    }
   ],
   "source": [
    "a1 = Sampler(A=20, B=20, M=10, N=2000, prime= 41, dist='exp', iteration=1)\n",
    "answer = a1.result()\n",
    "print('A=',a, ', B=',b,', M=',m,', N=',n,', Dist=Exp, Query1 out = ', answer[0], 'Query2 out = ', answer[1]) ## 2000"
   ]
  },
  {
   "cell_type": "code",
   "execution_count": 33,
   "metadata": {
    "scrolled": true
   },
   "outputs": [
    {
     "name": "stdout",
     "output_type": "stream",
     "text": [
      "A= 10 , B= 10 , M= 10 , N= 1000 , Dist=Exp, Query1 out =  5.82 , Query2 out =  26.7\n",
      "A= 10 , B= 10 , M= 10 , N= 1000 , Dist=Unif, Query1 out =  32.4 , Query2 out =  68.23\n",
      "A= 10 , B= 10 , M= 10 , N= 2000 , Dist=Exp, Query1 out =  67.03 , Query2 out =  28.16\n",
      "A= 10 , B= 10 , M= 10 , N= 2000 , Dist=Unif, Query1 out =  107.97 , Query2 out =  85.24\n",
      "A= 10 , B= 10 , M= 10 , N= 5000 , Dist=Exp, Query1 out =  30.41 , Query2 out =  66.06\n",
      "A= 10 , B= 10 , M= 10 , N= 5000 , Dist=Unif, Query1 out =  105.82 , Query2 out =  279.08\n",
      "A= 10 , B= 10 , M= 15 , N= 1000 , Dist=Exp, Query1 out =  8.88 , Query2 out =  14.91\n",
      "A= 10 , B= 10 , M= 15 , N= 1000 , Dist=Unif, Query1 out =  62.59 , Query2 out =  44.06\n",
      "A= 10 , B= 10 , M= 15 , N= 2000 , Dist=Exp, Query1 out =  18.68 , Query2 out =  28.41\n",
      "A= 10 , B= 10 , M= 15 , N= 2000 , Dist=Unif, Query1 out =  131.99 , Query2 out =  52.94\n",
      "A= 10 , B= 10 , M= 15 , N= 5000 , Dist=Exp, Query1 out =  42.06 , Query2 out =  63.88\n",
      "A= 10 , B= 10 , M= 15 , N= 5000 , Dist=Unif, Query1 out =  334.79 , Query2 out =  160.53\n",
      "A= 10 , B= 10 , M= 25 , N= 1000 , Dist=Exp, Query1 out =  7.44 , Query2 out =  35.46\n",
      "A= 10 , B= 10 , M= 25 , N= 1000 , Dist=Unif, Query1 out =  67.8 , Query2 out =  29.18\n",
      "A= 10 , B= 10 , M= 25 , N= 2000 , Dist=Exp, Query1 out =  21.07 , Query2 out =  55.36\n",
      "A= 10 , B= 10 , M= 25 , N= 2000 , Dist=Unif, Query1 out =  149.77 , Query2 out =  46.96\n",
      "A= 10 , B= 10 , M= 25 , N= 5000 , Dist=Exp, Query1 out =  68.03 , Query2 out =  67.32\n",
      "A= 10 , B= 10 , M= 25 , N= 5000 , Dist=Unif, Query1 out =  390.44 , Query2 out =  115.76\n"
     ]
    }
   ],
   "source": [
    "# test 1\n",
    "a = 10\n",
    "b = 10\n",
    "M_list = [10, 15, 25]\n",
    "N_list = [1000, 2000, 5000]\n",
    "\n",
    "# comparing which algorithm works better for which distribution\n",
    "for m in M_list:\n",
    "    for n in N_list:\n",
    "        a1 = Sampler(A=a, B=b, M=m, N=n, prime= 41, dist='exp', iteration=100)\n",
    "        answer = a1.result()\n",
    "        print('A=',a, ', B=',b,', M=',m,', N=',n,', Dist=Exp, Query1 out = ', answer[0], ', Query2 out = ', answer[1])\n",
    "        a2 = Sampler(A=a, B=b, M=m, N=n, prime= 41, dist='unif', iteration=100)\n",
    "        answer = a2.result()\n",
    "        print('A=',a, ', B=',b,', M=',m,', N=',n,', Dist=Uni, Query1 out = ', answer[0], ', Query2 out = ', answer[1]) ## 2000"
   ]
  },
  {
   "cell_type": "code",
   "execution_count": 35,
   "metadata": {},
   "outputs": [
    {
     "name": "stdout",
     "output_type": "stream",
     "text": [
      "A= 10 , B= 10 , M= 25 , N= 10000 , Dist=Exp, Query1 out =  251.16 , Query2 out =  204.77\n",
      "A= 10 , B= 10 , M= 25 , N= 10000 , Dist=Uni, Query1 out =  711.82 , Query2 out =  290.13\n"
     ]
    }
   ],
   "source": [
    "n = 10000\n",
    "a1 = Sampler(A=a, B=b, M=m, N=n, prime= 41, dist='exp', iteration=100)\n",
    "answer = a1.result()\n",
    "print('A=',a, ', B=',b,', M=',m,', N=',n,', Dist=Exp, Query1 out = ', answer[0], ', Query2 out = ', answer[1])\n",
    "a2 = Sampler(A=a, B=b, M=m, N=n, prime= 41, dist='unif', iteration=100)\n",
    "answer = a2.result()\n",
    "print('A=',a, ', B=',b,', M=',m,', N=',n,', Dist=Uni, Query1 out = ', answer[0], ', Query2 out = ', answer[1]) ## 2000"
   ]
  },
  {
   "cell_type": "code",
   "execution_count": 36,
   "metadata": {},
   "outputs": [
    {
     "name": "stdout",
     "output_type": "stream",
     "text": [
      "A= 10 , B= 10 , M= 100 , N= 10000 , Dist=Exp, Query1 out =  370.06 , Query2 out =  490.16\n",
      "A= 10 , B= 10 , M= 100 , N= 10000 , Dist=Uni, Query1 out =  894.72 , Query2 out =  95.03\n"
     ]
    }
   ],
   "source": [
    "n = 10000\n",
    "m = 100\n",
    "a1 = Sampler(A=a, B=b, M=m, N=n, prime= 41, dist='exp', iteration=100)\n",
    "answer = a1.result()\n",
    "print('A=',a, ', B=',b,', M=',m,', N=',n,', Dist=Exp, Query1 out = ', answer[0], ', Query2 out = ', answer[1])\n",
    "a2 = Sampler(A=a, B=b, M=m, N=n, prime= 41, dist='unif', iteration=100)\n",
    "answer = a2.result()\n",
    "print('A=',a, ', B=',b,', M=',m,', N=',n,', Dist=Uni, Query1 out = ', answer[0], ', Query2 out = ', answer[1]) ## 2000"
   ]
  },
  {
   "cell_type": "code",
   "execution_count": 60,
   "metadata": {},
   "outputs": [
    {
     "name": "stdout",
     "output_type": "stream",
     "text": [
      "A= 10 , B= 14 , M= 40 , N= 5000 , Dist=Exp, Query1 out =  20.53 , Query2 out =  89.11\n",
      "A= 10 , B= 14 , M= 40 , N= 5000 , Dist=Uni, Query1 out =  247.5 , Query2 out =  121.83\n",
      "A= 10 , B= 18 , M= 40 , N= 5000 , Dist=Exp, Query1 out =  21.39 , Query2 out =  38.44\n",
      "A= 10 , B= 18 , M= 40 , N= 5000 , Dist=Uni, Query1 out =  153.6 , Query2 out =  122.92\n",
      "A= 10 , B= 30 , M= 40 , N= 5000 , Dist=Exp, Query1 out =  3.08 , Query2 out =  12.3\n",
      "A= 10 , B= 30 , M= 40 , N= 5000 , Dist=Uni, Query1 out =  64.7 , Query2 out =  123.85\n",
      "A= 15 , B= 14 , M= 40 , N= 5000 , Dist=Exp, Query1 out =  6.54 , Query2 out =  12.68\n",
      "A= 15 , B= 14 , M= 40 , N= 5000 , Dist=Uni, Query1 out =  247.31 , Query2 out =  122.85\n",
      "A= 15 , B= 18 , M= 40 , N= 5000 , Dist=Exp, Query1 out =  4.02 , Query2 out =  12.01\n",
      "A= 15 , B= 18 , M= 40 , N= 5000 , Dist=Uni, Query1 out =  145.07 , Query2 out =  123.57\n",
      "A= 15 , B= 30 , M= 40 , N= 5000 , Dist=Exp, Query1 out =  2.98 , Query2 out =  3.27\n",
      "A= 15 , B= 30 , M= 40 , N= 5000 , Dist=Uni, Query1 out =  62.11 , Query2 out =  124.13\n",
      "A= 25 , B= 14 , M= 40 , N= 5000 , Dist=Exp, Query1 out =  4.49 , Query2 out =  11.92\n",
      "A= 25 , B= 14 , M= 40 , N= 5000 , Dist=Uni, Query1 out =  247.7 , Query2 out =  122.78\n",
      "A= 25 , B= 18 , M= 40 , N= 5000 , Dist=Exp, Query1 out =  3.09 , Query2 out =  3.86\n",
      "A= 25 , B= 18 , M= 40 , N= 5000 , Dist=Uni, Query1 out =  138.04 , Query2 out =  123.26\n",
      "A= 25 , B= 30 , M= 40 , N= 5000 , Dist=Exp, Query1 out =  3.04 , Query2 out =  3.35\n",
      "A= 25 , B= 30 , M= 40 , N= 5000 , Dist=Uni, Query1 out =  68.55 , Query2 out =  123.93\n"
     ]
    }
   ],
   "source": [
    "# test 2 \n",
    "A_list = [10, 15, 25]\n",
    "B_list = [14, 18, 30]\n",
    "m = 40\n",
    "n = 5000\n",
    "\n",
    "# comparing which algorithm works better for which distribution\n",
    "for a in A_list:\n",
    "    for b in B_list:\n",
    "        a1 = Sampler(A=a, B=b, M=m, N=n, prime= 41, dist='exp', iteration=100)\n",
    "        answer = a1.result()\n",
    "        print('A=',a, ', B=',b,', M=',m,', N=',n,', Dist=Exp, Query1 out = ', answer[0], ', Query2 out = ', answer[1])\n",
    "        a2 = Sampler(A=a, B=b, M=m, N=n, prime= 41, dist='unif', iteration=100)\n",
    "        answer = a2.result()\n",
    "        print('A=',a, ', B=',b,', M=',m,', N=',n,', Dist=Uni, Query1 out = ', answer[0], ', Query2 out = ', answer[1]) ## 2000"
   ]
  },
  {
   "cell_type": "code",
   "execution_count": null,
   "metadata": {},
   "outputs": [],
   "source": []
  },
  {
   "cell_type": "code",
   "execution_count": null,
   "metadata": {},
   "outputs": [],
   "source": []
  },
  {
   "cell_type": "code",
   "execution_count": null,
   "metadata": {},
   "outputs": [],
   "source": []
  }
 ],
 "metadata": {
  "kernelspec": {
   "display_name": "Python 3",
   "language": "python",
   "name": "python3"
  },
  "language_info": {
   "codemirror_mode": {
    "name": "ipython",
    "version": 3
   },
   "file_extension": ".py",
   "mimetype": "text/x-python",
   "name": "python",
   "nbconvert_exporter": "python",
   "pygments_lexer": "ipython3",
   "version": "3.6.5"
  }
 },
 "nbformat": 4,
 "nbformat_minor": 2
}
